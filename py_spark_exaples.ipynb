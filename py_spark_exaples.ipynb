{
 "cells": [
  {
   "cell_type": "code",
   "execution_count": 12,
   "metadata": {},
   "outputs": [],
   "source": [
    "from pyspark.sql import SparkSession\n",
    "from pyspark.sql import Row\n",
    "import pandas as pd"
   ]
  },
  {
   "attachments": {},
   "cell_type": "markdown",
   "metadata": {},
   "source": [
    "Create a Spark session"
   ]
  },
  {
   "cell_type": "code",
   "execution_count": 9,
   "metadata": {},
   "outputs": [],
   "source": [
    "session = SparkSession.builder.getOrCreate()"
   ]
  },
  {
   "cell_type": "code",
   "execution_count": 27,
   "metadata": {},
   "outputs": [],
   "source": [
    "# Read dataset with columns name/header\n",
    "df = session.read.option(\"header\",\"true\").csv(\"Kidney.csv\")"
   ]
  },
  {
   "cell_type": "code",
   "execution_count": 19,
   "metadata": {},
   "outputs": [],
   "source": [
    "# Read dataset without column names/headers\n",
    "df2 = session.read.csv(\"Kidney.csv\")"
   ]
  },
  {
   "cell_type": "code",
   "execution_count": 22,
   "metadata": {},
   "outputs": [
    {
     "data": {
      "text/plain": [
       "[Row(_c0='age', _c1='bp', _c2='sg', _c3='al', _c4='su', _c5='rbc', _c6='pc', _c7='pcc', _c8='ba', _c9='bgr', _c10='bu', _c11='sc', _c12='sod', _c13='pot', _c14='hemo', _c15='pcv', _c16='wbcc', _c17='rbcc', _c18='htn', _c19='dm', _c20='cad', _c21='appet', _c22='pe', _c23='ane', _c24='class'),\n",
       " Row(_c0='48', _c1='80', _c2='1.020', _c3='1', _c4='0', _c5='?', _c6='normal', _c7='notpresent', _c8='notpresent', _c9='121', _c10='36', _c11='1.2', _c12='?', _c13='?', _c14='15.4', _c15='44', _c16='7800', _c17='5.2', _c18='yes', _c19='yes', _c20='no', _c21='good', _c22='no', _c23='no', _c24='ckd'),\n",
       " Row(_c0='7', _c1='50', _c2='1.020', _c3='4', _c4='0', _c5='?', _c6='normal', _c7='notpresent', _c8='notpresent', _c9='?', _c10='18', _c11='0.8', _c12='?', _c13='?', _c14='11.3', _c15='38', _c16='6000', _c17='?', _c18='no', _c19='no', _c20='no', _c21='good', _c22='no', _c23='no', _c24='ckd'),\n",
       " Row(_c0='62', _c1='80', _c2='1.010', _c3='2', _c4='3', _c5='normal', _c6='normal', _c7='notpresent', _c8='notpresent', _c9='423', _c10='53', _c11='1.8', _c12='?', _c13='?', _c14='9.6', _c15='31', _c16='7500', _c17='?', _c18='no', _c19='yes', _c20='no', _c21='poor', _c22='no', _c23='yes', _c24='ckd'),\n",
       " Row(_c0='48', _c1='70', _c2='1.005', _c3='4', _c4='0', _c5='normal', _c6='abnormal', _c7='present', _c8='notpresent', _c9='117', _c10='56', _c11='3.8', _c12='111', _c13='2.5', _c14='11.2', _c15='32', _c16='6700', _c17='3.9', _c18='yes', _c19='no', _c20='no', _c21='poor', _c22='yes', _c23='yes', _c24='ckd')]"
      ]
     },
     "execution_count": 22,
     "metadata": {},
     "output_type": "execute_result"
    }
   ],
   "source": [
    "df2.head(5)"
   ]
  },
  {
   "cell_type": "code",
   "execution_count": 26,
   "metadata": {},
   "outputs": [
    {
     "name": "stdout",
     "output_type": "stream",
     "text": [
      "+---+---+-----+---+---+--------+--------+----------+----------+---+---+---+---+---+----+---+-----+----+---+---+---+-----+---+---+-----+\n",
      "|age| bp|   sg| al| su|     rbc|      pc|       pcc|        ba|bgr| bu| sc|sod|pot|hemo|pcv| wbcc|rbcc|htn| dm|cad|appet| pe|ane|class|\n",
      "+---+---+-----+---+---+--------+--------+----------+----------+---+---+---+---+---+----+---+-----+----+---+---+---+-----+---+---+-----+\n",
      "| 48| 80|1.020|  1|  0|       ?|  normal|notpresent|notpresent|121| 36|1.2|  ?|  ?|15.4| 44| 7800| 5.2|yes|yes| no| good| no| no|  ckd|\n",
      "|  7| 50|1.020|  4|  0|       ?|  normal|notpresent|notpresent|  ?| 18|0.8|  ?|  ?|11.3| 38| 6000|   ?| no| no| no| good| no| no|  ckd|\n",
      "| 62| 80|1.010|  2|  3|  normal|  normal|notpresent|notpresent|423| 53|1.8|  ?|  ?| 9.6| 31| 7500|   ?| no|yes| no| poor| no|yes|  ckd|\n",
      "| 48| 70|1.005|  4|  0|  normal|abnormal|   present|notpresent|117| 56|3.8|111|2.5|11.2| 32| 6700| 3.9|yes| no| no| poor|yes|yes|  ckd|\n",
      "| 51| 80|1.010|  2|  0|  normal|  normal|notpresent|notpresent|106| 26|1.4|  ?|  ?|11.6| 35| 7300| 4.6| no| no| no| good| no| no|  ckd|\n",
      "| 60| 90|1.015|  3|  0|       ?|       ?|notpresent|notpresent| 74| 25|1.1|142|3.2|12.2| 39| 7800| 4.4|yes|yes| no| good|yes| no|  ckd|\n",
      "| 68| 70|1.010|  0|  0|       ?|  normal|notpresent|notpresent|100| 54| 24|104|  4|12.4| 36|    ?|   ?| no| no| no| good| no| no|  ckd|\n",
      "| 24|  ?|1.015|  2|  4|  normal|abnormal|notpresent|notpresent|410| 31|1.1|  ?|  ?|12.4| 44| 6900|   5| no|yes| no| good|yes| no|  ckd|\n",
      "| 52|100|1.015|  3|  0|  normal|abnormal|   present|notpresent|138| 60|1.9|  ?|  ?|10.8| 33| 9600|   4|yes|yes| no| good| no|yes|  ckd|\n",
      "| 53| 90|1.020|  2|  0|abnormal|abnormal|   present|notpresent| 70|107|7.2|114|3.7| 9.5| 29|12100| 3.7|yes|yes| no| poor| no|yes|  ckd|\n",
      "| 50| 60|1.010|  2|  4|       ?|abnormal|   present|notpresent|490| 55|  4|  ?|  ?| 9.4| 28|    ?|   ?|yes|yes| no| good| no|yes|  ckd|\n",
      "| 63| 70|1.010|  3|  0|abnormal|abnormal|   present|notpresent|380| 60|2.7|131|4.2|10.8| 32| 4500| 3.8|yes|yes| no| poor|yes| no|  ckd|\n",
      "| 68| 70|1.015|  3|  1|       ?|  normal|   present|notpresent|208| 72|2.1|138|5.8| 9.7| 28|12200| 3.4|yes|yes|yes| poor|yes| no|  ckd|\n",
      "| 68| 70|    ?|  ?|  ?|       ?|       ?|notpresent|notpresent| 98| 86|4.6|135|3.4| 9.8|  ?|    ?|   ?|yes|yes|yes| poor|yes| no|  ckd|\n",
      "| 68| 80|1.010|  3|  2|  normal|abnormal|   present|   present|157| 90|4.1|130|6.4| 5.6| 16|11000| 2.6|yes|yes|yes| poor|yes| no|  ckd|\n",
      "| 40| 80|1.015|  3|  0|       ?|  normal|notpresent|notpresent| 76|162|9.6|141|4.9| 7.6| 24| 3800| 2.8|yes| no| no| good| no|yes|  ckd|\n",
      "| 47| 70|1.015|  2|  0|       ?|  normal|notpresent|notpresent| 99| 46|2.2|138|4.1|12.6|  ?|    ?|   ?| no| no| no| good| no| no|  ckd|\n",
      "| 47| 80|    ?|  ?|  ?|       ?|       ?|notpresent|notpresent|114| 87|5.2|139|3.7|12.1|  ?|    ?|   ?|yes| no| no| poor| no| no|  ckd|\n",
      "| 60|100|1.025|  0|  3|       ?|  normal|notpresent|notpresent|263| 27|1.3|135|4.3|12.7| 37|11400| 4.3|yes|yes|yes| good| no| no|  ckd|\n",
      "| 62| 60|1.015|  1|  0|       ?|abnormal|   present|notpresent|100| 31|1.6|  ?|  ?|10.3| 30| 5300| 3.7|yes| no|yes| good| no| no|  ckd|\n",
      "+---+---+-----+---+---+--------+--------+----------+----------+---+---+---+---+---+----+---+-----+----+---+---+---+-----+---+---+-----+\n",
      "only showing top 20 rows\n",
      "\n"
     ]
    }
   ],
   "source": [
    "df.show()"
   ]
  },
  {
   "cell_type": "code",
   "execution_count": 25,
   "metadata": {},
   "outputs": [
    {
     "name": "stdout",
     "output_type": "stream",
     "text": [
      "+---+---+-----+---+---+--------+--------+----------+----------+---+----+----+----+----+----+----+-----+----+----+----+----+-----+----+----+-----+\n",
      "|_c0|_c1|  _c2|_c3|_c4|     _c5|     _c6|       _c7|       _c8|_c9|_c10|_c11|_c12|_c13|_c14|_c15| _c16|_c17|_c18|_c19|_c20| _c21|_c22|_c23| _c24|\n",
      "+---+---+-----+---+---+--------+--------+----------+----------+---+----+----+----+----+----+----+-----+----+----+----+----+-----+----+----+-----+\n",
      "|age| bp|   sg| al| su|     rbc|      pc|       pcc|        ba|bgr|  bu|  sc| sod| pot|hemo| pcv| wbcc|rbcc| htn|  dm| cad|appet|  pe| ane|class|\n",
      "| 48| 80|1.020|  1|  0|       ?|  normal|notpresent|notpresent|121|  36| 1.2|   ?|   ?|15.4|  44| 7800| 5.2| yes| yes|  no| good|  no|  no|  ckd|\n",
      "|  7| 50|1.020|  4|  0|       ?|  normal|notpresent|notpresent|  ?|  18| 0.8|   ?|   ?|11.3|  38| 6000|   ?|  no|  no|  no| good|  no|  no|  ckd|\n",
      "| 62| 80|1.010|  2|  3|  normal|  normal|notpresent|notpresent|423|  53| 1.8|   ?|   ?| 9.6|  31| 7500|   ?|  no| yes|  no| poor|  no| yes|  ckd|\n",
      "| 48| 70|1.005|  4|  0|  normal|abnormal|   present|notpresent|117|  56| 3.8| 111| 2.5|11.2|  32| 6700| 3.9| yes|  no|  no| poor| yes| yes|  ckd|\n",
      "| 51| 80|1.010|  2|  0|  normal|  normal|notpresent|notpresent|106|  26| 1.4|   ?|   ?|11.6|  35| 7300| 4.6|  no|  no|  no| good|  no|  no|  ckd|\n",
      "| 60| 90|1.015|  3|  0|       ?|       ?|notpresent|notpresent| 74|  25| 1.1| 142| 3.2|12.2|  39| 7800| 4.4| yes| yes|  no| good| yes|  no|  ckd|\n",
      "| 68| 70|1.010|  0|  0|       ?|  normal|notpresent|notpresent|100|  54|  24| 104|   4|12.4|  36|    ?|   ?|  no|  no|  no| good|  no|  no|  ckd|\n",
      "| 24|  ?|1.015|  2|  4|  normal|abnormal|notpresent|notpresent|410|  31| 1.1|   ?|   ?|12.4|  44| 6900|   5|  no| yes|  no| good| yes|  no|  ckd|\n",
      "| 52|100|1.015|  3|  0|  normal|abnormal|   present|notpresent|138|  60| 1.9|   ?|   ?|10.8|  33| 9600|   4| yes| yes|  no| good|  no| yes|  ckd|\n",
      "| 53| 90|1.020|  2|  0|abnormal|abnormal|   present|notpresent| 70| 107| 7.2| 114| 3.7| 9.5|  29|12100| 3.7| yes| yes|  no| poor|  no| yes|  ckd|\n",
      "| 50| 60|1.010|  2|  4|       ?|abnormal|   present|notpresent|490|  55|   4|   ?|   ?| 9.4|  28|    ?|   ?| yes| yes|  no| good|  no| yes|  ckd|\n",
      "| 63| 70|1.010|  3|  0|abnormal|abnormal|   present|notpresent|380|  60| 2.7| 131| 4.2|10.8|  32| 4500| 3.8| yes| yes|  no| poor| yes|  no|  ckd|\n",
      "| 68| 70|1.015|  3|  1|       ?|  normal|   present|notpresent|208|  72| 2.1| 138| 5.8| 9.7|  28|12200| 3.4| yes| yes| yes| poor| yes|  no|  ckd|\n",
      "| 68| 70|    ?|  ?|  ?|       ?|       ?|notpresent|notpresent| 98|  86| 4.6| 135| 3.4| 9.8|   ?|    ?|   ?| yes| yes| yes| poor| yes|  no|  ckd|\n",
      "| 68| 80|1.010|  3|  2|  normal|abnormal|   present|   present|157|  90| 4.1| 130| 6.4| 5.6|  16|11000| 2.6| yes| yes| yes| poor| yes|  no|  ckd|\n",
      "| 40| 80|1.015|  3|  0|       ?|  normal|notpresent|notpresent| 76| 162| 9.6| 141| 4.9| 7.6|  24| 3800| 2.8| yes|  no|  no| good|  no| yes|  ckd|\n",
      "| 47| 70|1.015|  2|  0|       ?|  normal|notpresent|notpresent| 99|  46| 2.2| 138| 4.1|12.6|   ?|    ?|   ?|  no|  no|  no| good|  no|  no|  ckd|\n",
      "| 47| 80|    ?|  ?|  ?|       ?|       ?|notpresent|notpresent|114|  87| 5.2| 139| 3.7|12.1|   ?|    ?|   ?| yes|  no|  no| poor|  no|  no|  ckd|\n",
      "| 60|100|1.025|  0|  3|       ?|  normal|notpresent|notpresent|263|  27| 1.3| 135| 4.3|12.7|  37|11400| 4.3| yes| yes| yes| good|  no|  no|  ckd|\n",
      "+---+---+-----+---+---+--------+--------+----------+----------+---+----+----+----+----+----+----+-----+----+----+----+----+-----+----+----+-----+\n",
      "only showing top 20 rows\n",
      "\n"
     ]
    }
   ],
   "source": [
    "df2.show()"
   ]
  },
  {
   "cell_type": "code",
   "execution_count": null,
   "metadata": {},
   "outputs": [],
   "source": []
  }
 ],
 "metadata": {
  "kernelspec": {
   "display_name": "venv",
   "language": "python",
   "name": "python3"
  },
  "language_info": {
   "codemirror_mode": {
    "name": "ipython",
    "version": 3
   },
   "file_extension": ".py",
   "mimetype": "text/x-python",
   "name": "python",
   "nbconvert_exporter": "python",
   "pygments_lexer": "ipython3",
   "version": "3.10.6"
  },
  "orig_nbformat": 4
 },
 "nbformat": 4,
 "nbformat_minor": 2
}
