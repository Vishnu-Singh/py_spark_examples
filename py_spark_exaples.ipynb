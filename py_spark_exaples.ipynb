{
 "cells": [
  {
   "cell_type": "code",
   "execution_count": 12,
   "metadata": {},
   "outputs": [],
   "source": [
    "from pyspark.sql import SparkSession\n",
    "from pyspark.sql import Row\n",
    "import pandas as pd"
   ]
  },
  {
   "attachments": {},
   "cell_type": "markdown",
   "metadata": {},
   "source": [
    "Create a Spark session"
   ]
  },
  {
   "cell_type": "code",
   "execution_count": 9,
   "metadata": {},
   "outputs": [],
   "source": [
    "session = SparkSession.builder.getOrCreate()"
   ]
  },
  {
   "cell_type": "code",
   "execution_count": 29,
   "metadata": {},
   "outputs": [],
   "source": [
    "# Read dataset with columns name/header\n",
    "header_df = session.read.option(\"header\",\"true\").csv(\"Kidney.csv\")"
   ]
  },
  {
   "cell_type": "code",
   "execution_count": 31,
   "metadata": {},
   "outputs": [
    {
     "data": {
      "text/plain": [
       "['age',\n",
       " 'bp',\n",
       " 'sg',\n",
       " 'al',\n",
       " 'su',\n",
       " 'rbc',\n",
       " 'pc',\n",
       " 'pcc',\n",
       " 'ba',\n",
       " 'bgr',\n",
       " 'bu',\n",
       " 'sc',\n",
       " 'sod',\n",
       " 'pot',\n",
       " 'hemo',\n",
       " 'pcv',\n",
       " 'wbcc',\n",
       " 'rbcc',\n",
       " 'htn',\n",
       " 'dm',\n",
       " 'cad',\n",
       " 'appet',\n",
       " 'pe',\n",
       " 'ane',\n",
       " 'class']"
      ]
     },
     "execution_count": 31,
     "metadata": {},
     "output_type": "execute_result"
    }
   ],
   "source": [
    "header_df.columns"
   ]
  },
  {
   "cell_type": "code",
   "execution_count": 33,
   "metadata": {},
   "outputs": [],
   "source": [
    "# Read dataset without column names/headers\n",
    "without_header_df2 = session.read.csv(\"Kidney.csv\")"
   ]
  },
  {
   "cell_type": "code",
   "execution_count": 34,
   "metadata": {},
   "outputs": [
    {
     "data": {
      "text/plain": [
       "['_c0',\n",
       " '_c1',\n",
       " '_c2',\n",
       " '_c3',\n",
       " '_c4',\n",
       " '_c5',\n",
       " '_c6',\n",
       " '_c7',\n",
       " '_c8',\n",
       " '_c9',\n",
       " '_c10',\n",
       " '_c11',\n",
       " '_c12',\n",
       " '_c13',\n",
       " '_c14',\n",
       " '_c15',\n",
       " '_c16',\n",
       " '_c17',\n",
       " '_c18',\n",
       " '_c19',\n",
       " '_c20',\n",
       " '_c21',\n",
       " '_c22',\n",
       " '_c23',\n",
       " '_c24']"
      ]
     },
     "execution_count": 34,
     "metadata": {},
     "output_type": "execute_result"
    }
   ],
   "source": [
    "without_header_df2.columns"
   ]
  },
  {
   "cell_type": "code",
   "execution_count": 35,
   "metadata": {},
   "outputs": [],
   "source": [
    "# we are using header dataset\n",
    "df = header_df"
   ]
  },
  {
   "cell_type": "code",
   "execution_count": 36,
   "metadata": {},
   "outputs": [
    {
     "name": "stdout",
     "output_type": "stream",
     "text": [
      "root\n",
      " |-- age: string (nullable = true)\n",
      " |-- bp: string (nullable = true)\n",
      " |-- sg: string (nullable = true)\n",
      " |-- al: string (nullable = true)\n",
      " |-- su: string (nullable = true)\n",
      " |-- rbc: string (nullable = true)\n",
      " |-- pc: string (nullable = true)\n",
      " |-- pcc: string (nullable = true)\n",
      " |-- ba: string (nullable = true)\n",
      " |-- bgr: string (nullable = true)\n",
      " |-- bu: string (nullable = true)\n",
      " |-- sc: string (nullable = true)\n",
      " |-- sod: string (nullable = true)\n",
      " |-- pot: string (nullable = true)\n",
      " |-- hemo: string (nullable = true)\n",
      " |-- pcv: string (nullable = true)\n",
      " |-- wbcc: string (nullable = true)\n",
      " |-- rbcc: string (nullable = true)\n",
      " |-- htn: string (nullable = true)\n",
      " |-- dm: string (nullable = true)\n",
      " |-- cad: string (nullable = true)\n",
      " |-- appet: string (nullable = true)\n",
      " |-- pe: string (nullable = true)\n",
      " |-- ane: string (nullable = true)\n",
      " |-- class: string (nullable = true)\n",
      "\n"
     ]
    }
   ],
   "source": [
    "# shema structure\n",
    "df.printSchema()"
   ]
  },
  {
   "cell_type": "code",
   "execution_count": 38,
   "metadata": {},
   "outputs": [
    {
     "name": "stderr",
     "output_type": "stream",
     "text": [
      "23/04/20 20:18:30 WARN package: Truncated the string representation of a plan since it was too large. This behavior can be adjusted by setting 'spark.sql.debug.maxToStringFields'.\n",
      "[Stage 17:>                                                         (0 + 1) / 1]\r"
     ]
    },
    {
     "name": "stdout",
     "output_type": "stream",
     "text": [
      "+-------+-----------------+-----------------+--------------------+------------------+-------------------+------+------+-------+-------+-----------------+------------------+------------------+------------------+-----------------+------------------+-----------------+------------------+------------------+----+----+----+-----+----+----+------+\n",
      "|summary|              age|               bp|                  sg|                al|                 su|   rbc|    pc|    pcc|     ba|              bgr|                bu|                sc|               sod|              pot|              hemo|              pcv|              wbcc|              rbcc| htn|  dm| cad|appet|  pe| ane| class|\n",
      "+-------+-----------------+-----------------+--------------------+------------------+-------------------+------+------+-------+-------+-----------------+------------------+------------------+------------------+-----------------+------------------+-----------------+------------------+------------------+----+----+----+-----+----+----+------+\n",
      "|  count|              400|              400|                 400|               400|                400|   400|   400|    400|    400|              400|               400|               400|               400|              400|               400|              400|               400|               400| 400| 400| 400|  400| 400| 400|   400|\n",
      "|   mean|51.48337595907928|76.46907216494846|  1.0174079320113256|1.0169491525423728|0.45014245014245013|  null|  null|   null|   null|148.0365168539326|57.425721784776904|3.0724543080939934|137.52875399361022|4.627243589743592|12.526436781609195|38.88449848024316| 8406.122448979591| 4.707434944237919|null|null|null| null|null|null|  null|\n",
      "| stddev|17.16971408926224|13.68363749352527|0.005716616974376756|1.3526789127628445|  1.099191251885407|  null|  null|   null|   null|79.28171423511773|50.503005849222504| 5.741126066859789|10.408752051798777|3.193904176556695| 2.912586608826765|8.990104814740933|2944.4741904103385|1.0253232655721791|null|null|null| null|null|null|  null|\n",
      "|    min|               11|              100|               1.005|                 0|                  0|     ?|     ?|      ?|      ?|              100|               1.5|               0.4|               104|              2.5|                10|               14|             10200|               2.1|   ?|   ?|   ?|    ?|   ?|   ?|   ckd|\n",
      "|    max|                ?|                ?|                   ?|                 ?|                  ?|normal|normal|present|present|                ?|                 ?|                 ?|                 ?|                ?|                 ?|                ?|                 ?|                 ?| yes| yes| yes| poor| yes| yes|notckd|\n",
      "+-------+-----------------+-----------------+--------------------+------------------+-------------------+------+------+-------+-------+-----------------+------------------+------------------+------------------+-----------------+------------------+-----------------+------------------+------------------+----+----+----+-----+----+----+------+\n",
      "\n"
     ]
    },
    {
     "name": "stderr",
     "output_type": "stream",
     "text": [
      "                                                                                \r"
     ]
    }
   ],
   "source": [
    "# dataset summary\n",
    "df.describe().show()"
   ]
  },
  {
   "cell_type": "code",
   "execution_count": null,
   "metadata": {},
   "outputs": [],
   "source": []
  }
 ],
 "metadata": {
  "kernelspec": {
   "display_name": "venv",
   "language": "python",
   "name": "python3"
  },
  "language_info": {
   "codemirror_mode": {
    "name": "ipython",
    "version": 3
   },
   "file_extension": ".py",
   "mimetype": "text/x-python",
   "name": "python",
   "nbconvert_exporter": "python",
   "pygments_lexer": "ipython3",
   "version": "3.10.6"
  },
  "orig_nbformat": 4
 },
 "nbformat": 4,
 "nbformat_minor": 2
}
